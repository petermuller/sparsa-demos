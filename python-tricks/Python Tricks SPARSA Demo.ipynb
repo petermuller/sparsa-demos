{
 "cells": [
  {
   "cell_type": "markdown",
   "metadata": {},
   "source": [
    "SPARSA Demo: Some Cool Python Tricks\n",
    "====================================\n",
    "\n",
    "In this set of examples, I'll show a few things that I've found interesting in Python. Most notably:\n",
    "- \\__str__\n",
    "- \\__call__\n",
    "- generators\n",
    "- function pointers\n",
    "\n"
   ]
  },
  {
   "cell_type": "markdown",
   "metadata": {},
   "source": [
    "Class Demos\n",
    "-----------\n",
    "\n",
    "First, let's set up some classes, one with a \\__str__ method, and one without"
   ]
  },
  {
   "cell_type": "code",
   "execution_count": 1,
   "metadata": {
    "collapsed": true
   },
   "outputs": [],
   "source": [
    "class DumbNode:\n",
    "    \"\"\"\n",
    "    A simple object for comparison against the 'Node' object\n",
    "    \"\"\"\n",
    "    def __init__(self):\n",
    "        print(\"DumbNode object created!\")\n",
    "        \n",
    "class Node:\n",
    "    \"\"\"\n",
    "    A more interesting object that can be printed out, initialized in several\n",
    "    different ways, and be called as a function.\n",
    "    \"\"\"\n",
    "    def __init__(self, var1=1, var2=4):\n",
    "        \"\"\"\n",
    "        Initializes the node. Has optional parameters for setting initial values\n",
    "        :param var1: First parameter\n",
    "        :param var2: Second Parameter\n",
    "        :return: the Node object\n",
    "        \"\"\"\n",
    "        self.p = var1\n",
    "        self.q = var2\n",
    "        print(\"Node object created!\")\n",
    "\n",
    "    def __str__(self):\n",
    "        \"\"\"\n",
    "        Makes a human-readable string for custom objects\n",
    "        :return: the string representation of the object\n",
    "        \"\"\"\n",
    "        return \"Node object with p=%d, and q=%d\" % (self.p, self.q)\n",
    "\n",
    "    def __call__(self, arg1, arg2):\n",
    "        \"\"\"\n",
    "        Allows the object to be called as a function\n",
    "        :param arg1: A number\n",
    "        :param arg2: Another number\n",
    "        :return: tuple containing the existing values plus the argument values\n",
    "        \"\"\"\n",
    "        return arg1 + self.p, arg2 + self.q"
   ]
  },
  {
   "cell_type": "markdown",
   "metadata": {},
   "source": [
    "Some interesting things about the *Node* class: it can be converted gracefully into a string, unlike *DumbNode*, it can be called as a function once it is initialized, and the input parameters don't need to be defined by the user if they do not need to change from the default values. A few examples are shown below."
   ]
  },
  {
   "cell_type": "code",
   "execution_count": 2,
   "metadata": {
    "collapsed": false
   },
   "outputs": [
    {
     "name": "stdout",
     "output_type": "stream",
     "text": [
      "DumbNode object created!\n",
      "Node object created!\n",
      "Node object created!\n",
      "Node object created!\n",
      "Node object created!\n",
      "Node object created!\n",
      "<__main__.DumbNode instance at 0x0000000003D73A88>\n",
      "Node object with p=1, and q=4\n",
      "Node object with p=9, and q=4\n",
      "Node object with p=0, and q=0\n",
      "Node object with p=4, and q=5\n",
      "(8, 12)\n"
     ]
    }
   ],
   "source": [
    "# Let's create some objects\n",
    "dd = DumbNode()\n",
    "a = Node()\n",
    "b = Node(9)  # var1=9, var2 gets default value\n",
    "c = Node(0, 0)  # var1=0, var2=0\n",
    "d = Node(var2=5, var1=4)\n",
    "e = Node(var2=99)  # var2=99, var1 gets default value\n",
    "\n",
    "# And now we can print them in plain text because of __str__\n",
    "print(dd)  # prints out memory location. Python doesn't know how to make it a string.\n",
    "print(a)  # Python can make these strings because of __str__\n",
    "print(b)\n",
    "print(c)\n",
    "print(d)\n",
    "print(a(7, 8))  # called object 'a' as a function. prints the result"
   ]
  },
  {
   "cell_type": "markdown",
   "metadata": {},
   "source": [
    "The output from the nodes shows when they are created, and then what happens when the nodes are printed, especially after changing the parameters to the Node object constructor. Notice what happens when the \\__str__ method is not defined by the user."
   ]
  },
  {
   "cell_type": "markdown",
   "metadata": {},
   "source": [
    "Generator Demos\n",
    "---------------\n",
    "\n",
    "In these sections, I'll show you have generators work and differ from standard functions. Let's use the Fibonacci Sequence as an example."
   ]
  },
  {
   "cell_type": "code",
   "execution_count": 3,
   "metadata": {
    "collapsed": true
   },
   "outputs": [],
   "source": [
    "def fib_r(n=100):\n",
    "    \"\"\"\n",
    "    Makes the Fibonacci sequence. Requires an upper bound on numbers\n",
    "    :param n: Number of items in the sequence to determine\n",
    "    :return: a list of the first n items in the Fibonacci sequence\n",
    "    \"\"\"\n",
    "    num1 = 0\n",
    "    num2 = 1\n",
    "    counter = 2\n",
    "    results = [num1, num2]\n",
    "    while counter < n:\n",
    "        f_sum = num1 + num2\n",
    "        num1 = num2\n",
    "        num2 = f_sum\n",
    "        results.append(f_sum)\n",
    "        counter += 1\n",
    "    return results\n",
    "\n",
    "def fib_g():\n",
    "    \"\"\"\n",
    "    Makes the Fibonacci sequence as a generator. Does not need an upper bound\n",
    "    :return: Yields the next number of the sequence when called\n",
    "    \"\"\"\n",
    "    num1 = 0\n",
    "    yield num1\n",
    "    num2 = 1\n",
    "    yield num2\n",
    "    while True:\n",
    "        f_sum = num1 + num2\n",
    "        num1 = num2\n",
    "        num2 = f_sum\n",
    "        yield f_sum"
   ]
  },
  {
   "cell_type": "markdown",
   "metadata": {},
   "source": [
    "There are two main differences between these functions. First, the first function makes a list and then returns it when an upper bound is reached. That entire list is then copied back to the user, but for large values of n, that gets to be unmanageable, especially if the middle values aren't necessary for the application. In the second function, yield statements are used to get a number back to the user. Each new number is only generated when the user asks for it, either in a next statement, or in a for-each loop."
   ]
  },
  {
   "cell_type": "code",
   "execution_count": 4,
   "metadata": {
    "collapsed": false
   },
   "outputs": [
    {
     "name": "stdout",
     "output_type": "stream",
     "text": [
      "First Fib\n",
      "<type 'list'>\n",
      "34\n"
     ]
    }
   ],
   "source": [
    "count = 10\n",
    "print(\"First Fib\")\n",
    "p = fib_r(count)  # fib_r needs upper bound because return is used\n",
    "print(type(p))  # p is a list.\n",
    "for i in range(count):\n",
    "    num = p[i]\n",
    "# Next line prints the last number in sequence. To get 11th number, list\n",
    "# must be regenerated with n=11. This is memory intensive with large n.\n",
    "print num"
   ]
  },
  {
   "cell_type": "markdown",
   "metadata": {},
   "source": [
    "Using the first function, which uses a return statement, a list of 10 numbers was returned. However, if the 11th number in the sequence is needed, the entire list must be regenerated by calling the function with a larger upper bound. If we needed the 9 millionth number in the sequence, we would have to return a list of 9 million numbers. Using Python's default size for an int (8 bytes), 9 million * 8 bytes = 72MB of additional space just to get that last number. Contrast that to the generator, using yield statements."
   ]
  },
  {
   "cell_type": "code",
   "execution_count": 5,
   "metadata": {
    "collapsed": false
   },
   "outputs": [
    {
     "name": "stdout",
     "output_type": "stream",
     "text": [
      "Second Fib\n",
      "<type 'generator'>\n",
      "34\n"
     ]
    }
   ],
   "source": [
    "print(\"Second Fib\")\n",
    "q = fib_g()\n",
    "print(type(q))  # q is a generator\n",
    "for i in range(count):\n",
    "    # next(q) gets next number in sequence. It's a manual way of getting a\n",
    "    # value instead of using a for-in loop, which is supported\n",
    "    num = next(q)\n",
    "# Next line prints the same value generated from above, with the\n",
    "# difference that more values can be generated with no additional function\n",
    "# calls or memory usage than what is already used.\n",
    "print num"
   ]
  },
  {
   "cell_type": "markdown",
   "metadata": {},
   "source": [
    "As you can see in this second example, the same results are achieved, but because the generator was used, no additional memory than was used in the function was used. Also, unlike the original function, this one has no upper bound. We can keep on generating numbers with no additional memory penalties."
   ]
  },
  {
   "cell_type": "code",
   "execution_count": 6,
   "metadata": {
    "collapsed": false
   },
   "outputs": [
    {
     "name": "stdout",
     "output_type": "stream",
     "text": [
      "55\n",
      "89\n",
      "144\n"
     ]
    }
   ],
   "source": [
    "print(next(q))  # 11th number\n",
    "print(next(q))  # 12th number\n",
    "print(next(q))  # 13th number"
   ]
  },
  {
   "cell_type": "markdown",
   "metadata": {},
   "source": [
    "Also, in the case that we want to find the first number in a sequence larger than some value, we can do that without having to guess an upper limit on the sequence. Let's find the first number in the Fibonacci Sequence greater than 9 million."
   ]
  },
  {
   "cell_type": "code",
   "execution_count": 7,
   "metadata": {
    "collapsed": false
   },
   "outputs": [
    {
     "name": "stdout",
     "output_type": "stream",
     "text": [
      "9227465\n"
     ]
    }
   ],
   "source": [
    "for number in fib_g():  # example using the for-in loop with a generator\n",
    "    # gets the first number in the Fibonacci sequence greater than 9,000,000\n",
    "    # requires no knowledge of upper bounds and uses minimal memory\n",
    "    if number > 9e6:\n",
    "        print number\n",
    "        break"
   ]
  },
  {
   "cell_type": "markdown",
   "metadata": {},
   "source": [
    "Function Pointer Demos\n",
    "----------------------\n",
    "\n",
    "In Python, function pointers exist. Usually, it may be the case that you have to apply different parameters to the same function and iterate based on the values, but what if you had to apply the same data to many functions? Let's set up some simple mathematical functions."
   ]
  },
  {
   "cell_type": "code",
   "execution_count": 8,
   "metadata": {
    "collapsed": true
   },
   "outputs": [],
   "source": [
    "def add(a, b):\n",
    "    \"\"\"\n",
    "    Simple adder\n",
    "    :param a:\n",
    "    :param b:\n",
    "    :return:\n",
    "    \"\"\"\n",
    "    return a+b\n",
    "\n",
    "\n",
    "def subtract(a, b):\n",
    "    \"\"\"\n",
    "    Simple subtractor\n",
    "    :param a:\n",
    "    :param b:\n",
    "    :return:\n",
    "    \"\"\"\n",
    "    return a-b\n",
    "\n",
    "\n",
    "def multiply(a, b):\n",
    "    \"\"\"\n",
    "    Simple multiplier\n",
    "    :param a:\n",
    "    :param b:\n",
    "    :return:\n",
    "    \"\"\"\n",
    "    return a*b\n",
    "\n",
    "\n",
    "def divide(a, b):\n",
    "    \"\"\"\n",
    "    Simple divider\n",
    "    :param a:\n",
    "    :param b:\n",
    "    :return:\n",
    "    \"\"\"\n",
    "    return float(a)/float(b)"
   ]
  },
  {
   "cell_type": "markdown",
   "metadata": {},
   "source": [
    "Now, we can set up a list of data to apply to the functions. The following line may look tricky, but here's the English translation for the Python code. Create a list of tuples of a number and 10 times the number for numbers in the set [1,10), counting by 1, and assign it to the variable, nums."
   ]
  },
  {
   "cell_type": "code",
   "execution_count": 9,
   "metadata": {
    "collapsed": false
   },
   "outputs": [
    {
     "name": "stdout",
     "output_type": "stream",
     "text": [
      "[(1.0, 10.0), (2.0, 20.0), (3.0, 30.0), (4.0, 40.0), (5.0, 50.0), (6.0, 60.0), (7.0, 70.0), (8.0, 80.0), (9.0, 90.0)]\n"
     ]
    }
   ],
   "source": [
    "# make a list of number pairs. [(1.0, 10.0), ..., (9.0, 90.0)]\n",
    "nums = [(float(i), float(i*10)) for i in range(1, 10, 1)]\n",
    "print nums"
   ]
  },
  {
   "cell_type": "markdown",
   "metadata": {},
   "source": [
    "Now, we can make a list of functions to apply to the data!"
   ]
  },
  {
   "cell_type": "code",
   "execution_count": 10,
   "metadata": {
    "collapsed": true
   },
   "outputs": [],
   "source": [
    "# list of functions defined above\n",
    "ops = [add, subtract, multiply, divide]"
   ]
  },
  {
   "cell_type": "markdown",
   "metadata": {},
   "source": [
    "Now, using the data pairs and set of functions, we can apply everything to generate a 4x9 matrix of results of each operation. The rows will correspond to the operations performed, in order of the list order, and the columns will correspond to the index of the number pair used, in order from 1 to 9."
   ]
  },
  {
   "cell_type": "code",
   "execution_count": 11,
   "metadata": {
    "collapsed": false
   },
   "outputs": [
    {
     "name": "stdout",
     "output_type": "stream",
     "text": [
      "[11.0, 22.0, 33.0, 44.0, 55.0, 66.0, 77.0, 88.0, 99.0]\n",
      "[-9.0, -18.0, -27.0, -36.0, -45.0, -54.0, -63.0, -72.0, -81.0]\n",
      "[10.0, 40.0, 90.0, 160.0, 250.0, 360.0, 490.0, 640.0, 810.0]\n",
      "[0.1, 0.1, 0.1, 0.1, 0.1, 0.1, 0.1, 0.1, 0.1]\n"
     ]
    }
   ],
   "source": [
    "results = []\n",
    "for function in ops:\n",
    "    # makes 4x9 matrix: 4 rows for operations, 9 cols for each pair result\n",
    "    # each function is called with the number pair as a parameter\n",
    "    results.append([function(tup[0], tup[1]) for tup in nums])\n",
    "for row in results:  # just prints out the matrix one row at a time\n",
    "    print row  # in order: results of add, subtract, multiply, divide"
   ]
  },
  {
   "cell_type": "code",
   "execution_count": null,
   "metadata": {
    "collapsed": true
   },
   "outputs": [],
   "source": []
  }
 ],
 "metadata": {
  "kernelspec": {
   "display_name": "Python 2",
   "language": "python",
   "name": "python2"
  },
  "language_info": {
   "codemirror_mode": {
    "name": "ipython",
    "version": 2
   },
   "file_extension": ".py",
   "mimetype": "text/x-python",
   "name": "python",
   "nbconvert_exporter": "python",
   "pygments_lexer": "ipython2",
   "version": "2.7.11"
  }
 },
 "nbformat": 4,
 "nbformat_minor": 0
}
